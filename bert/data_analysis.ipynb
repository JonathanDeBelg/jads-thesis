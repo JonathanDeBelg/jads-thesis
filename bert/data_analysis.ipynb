{
 "cells": [
  {
   "cell_type": "code",
   "execution_count": 1,
   "metadata": {},
   "outputs": [],
   "source": [
    "import pandas as pd\n",
    "import regex as re\n",
    "from nltk.corpus import stopwords\n",
    "from nltk import word_tokenize\n",
    "from nltk.stem import WordNetLemmatizer\n",
    "import emoji\n",
    " \n",
    "lemmatizer = WordNetLemmatizer()\n",
    "\n",
    "\n",
    "data = pd.read_csv('../data/instagram/instagram_posts_from_eredivsie_players.csv', sep='|', quotechar='\"', engine='python')\n",
    "trends_data = pd.read_csv('../data/google-trends/def_nl_football_google_trends.csv', sep=';', index_col=0)\n",
    "trends_data.index = pd.to_datetime(trends_data.index)\n",
    "\n",
    "data = data.dropna(subset=['caption'])"
   ]
  },
  {
   "cell_type": "code",
   "execution_count": 2,
   "metadata": {},
   "outputs": [],
   "source": [
    "# 5. Text Preprocessing\n",
    "stop_words = set(stopwords.words('english'))\n",
    "\n",
    "def extract_hashtags(text):\n",
    "    return [word for word in text.split() if word.startswith('#')]\n",
    "\n",
    "def extract_emoijs(text):\n",
    "    return [word for word in text.split() if word.startswith(':') and word.endswith(':')]\n",
    "\n",
    "def preprocess_text(text):\n",
    "    pattern = re.compile(r'[^a-zA-Z]')\n",
    "    \n",
    "    # Tokenization\n",
    "    tokens = word_tokenize(text)\n",
    "    \n",
    "    # # Remove punctuation, numbers, and specific characters\n",
    "    # tokens = [re.sub(r'[^a-zA-Z]', '', token) for token in tokens]\n",
    "    \n",
    "    # # Filter out empty tokens\n",
    "    # tokens = [token for token in tokens if token]\n",
    "    \n",
    "    # # Lowercasing, lemmatization, and character removal\n",
    "    # tokens = [lemmatizer.lemmatize(token.lower()) for token in tokens if token.lower() not in stop_words]\n",
    "    tokens = [lemmatizer.lemmatize(pattern.sub('', token).lower()) for token in tokens if pattern.sub('', token) and token.lower() not in stop_words]\n",
    "    \n",
    "    return tokens\n",
    "\n",
    "def extract_authors(text):\n",
    "    \"\"\"Extract authors based on a defined pattern.\"\"\"\n",
    "    # Regular expression pattern\n",
    "    pattern = r'(written by [A-Z][a-z]+ [A-Z][a-z]+|By [A-Z][a-z]+ [A-Z][a-z]+|written by [A-Za-z]+|[A-Z][a-z]+ com |[a-z]+ com(?= ))'\n",
    "    matches = re.findall(pattern, text)\n",
    "    \n",
    "    # If multiple authors, join with comma or just return the single author\n",
    "    return ', '.join(matches) if matches else None\n",
    "\n",
    "def contains_numbers(text):\n",
    "    return bool(re.search(r'\\d', text))\n",
    "\n",
    "def contains_match_reference(text):\n",
    "    return bool(re.search(r\"#\\b[A-Z]{3}[A-Z]{3}\\b\", text))"
   ]
  },
  {
   "cell_type": "code",
   "execution_count": 35,
   "metadata": {},
   "outputs": [],
   "source": [
    "data['caption'] = data['caption'].apply(str)\n",
    "data['caption'] = data['caption'].apply(emoji.demojize)"
   ]
  },
  {
   "cell_type": "code",
   "execution_count": null,
   "metadata": {},
   "outputs": [],
   "source": [
    "data['contains_numbers'] = data['caption'].apply(contains_numbers)\n",
    "data['contains_match_ref'] = data['caption'].apply(contains_match_reference)\n",
    "\n",
    "data['hashtags'] = data['caption'].apply(extract_hashtags)\n",
    "data['emojis'] = data['caption'].apply(extract_emoijs)\n",
    "data['description_preprocessed'] = data['caption'].apply(preprocess_text)\n",
    "data['post_datetime'] = pd.to_datetime(data['timestamp'])"
   ]
  },
  {
   "cell_type": "code",
   "execution_count": 20,
   "metadata": {},
   "outputs": [
    {
     "data": {
      "text/html": [
       "<div>\n",
       "<style scoped>\n",
       "    .dataframe tbody tr th:only-of-type {\n",
       "        vertical-align: middle;\n",
       "    }\n",
       "\n",
       "    .dataframe tbody tr th {\n",
       "        vertical-align: top;\n",
       "    }\n",
       "\n",
       "    .dataframe thead th {\n",
       "        text-align: right;\n",
       "    }\n",
       "</style>\n",
       "<table border=\"1\" class=\"dataframe\">\n",
       "  <thead>\n",
       "    <tr style=\"text-align: right;\">\n",
       "      <th></th>\n",
       "      <th>caption</th>\n",
       "      <th>ownerUsername</th>\n",
       "      <th>timestamp</th>\n",
       "      <th>likesCount</th>\n",
       "      <th>commentsCount</th>\n",
       "      <th>contains_numbers</th>\n",
       "      <th>contains_match_ref</th>\n",
       "      <th>hashtags</th>\n",
       "      <th>emojis</th>\n",
       "      <th>description_preprocessed</th>\n",
       "      <th>amount_of_words</th>\n",
       "      <th>Post Count</th>\n",
       "    </tr>\n",
       "    <tr>\n",
       "      <th>post_datetime</th>\n",
       "      <th></th>\n",
       "      <th></th>\n",
       "      <th></th>\n",
       "      <th></th>\n",
       "      <th></th>\n",
       "      <th></th>\n",
       "      <th></th>\n",
       "      <th></th>\n",
       "      <th></th>\n",
       "      <th></th>\n",
       "      <th></th>\n",
       "      <th></th>\n",
       "    </tr>\n",
       "  </thead>\n",
       "  <tbody>\n",
       "    <tr>\n",
       "      <th>2011-12-20 18:50:56+00:00</th>\n",
       "      <td>Baby tree with a Cone-er</td>\n",
       "      <td>zachboothdorff</td>\n",
       "      <td>2011-12-20T18:50:56.000Z</td>\n",
       "      <td>7.0</td>\n",
       "      <td>0.0</td>\n",
       "      <td>False</td>\n",
       "      <td>False</td>\n",
       "      <td>[]</td>\n",
       "      <td>[]</td>\n",
       "      <td>[baby, tree, with, a, coneer]</td>\n",
       "      <td>5</td>\n",
       "      <td>NaN</td>\n",
       "    </tr>\n",
       "    <tr>\n",
       "      <th>2011-12-24 22:51:40+00:00</th>\n",
       "      <td>Me and Bonham</td>\n",
       "      <td>zachboothdorff</td>\n",
       "      <td>2011-12-24T22:51:40.000Z</td>\n",
       "      <td>77.0</td>\n",
       "      <td>3.0</td>\n",
       "      <td>False</td>\n",
       "      <td>False</td>\n",
       "      <td>[]</td>\n",
       "      <td>[]</td>\n",
       "      <td>[and, bonham]</td>\n",
       "      <td>2</td>\n",
       "      <td>NaN</td>\n",
       "    </tr>\n",
       "    <tr>\n",
       "      <th>2011-12-26 21:21:17+00:00</th>\n",
       "      <td>Heading home!</td>\n",
       "      <td>zachboothdorff</td>\n",
       "      <td>2011-12-26T21:21:17.000Z</td>\n",
       "      <td>6.0</td>\n",
       "      <td>0.0</td>\n",
       "      <td>False</td>\n",
       "      <td>False</td>\n",
       "      <td>[]</td>\n",
       "      <td>[]</td>\n",
       "      <td>[heading, home]</td>\n",
       "      <td>2</td>\n",
       "      <td>NaN</td>\n",
       "    </tr>\n",
       "    <tr>\n",
       "      <th>2012-01-11 19:00:52+00:00</th>\n",
       "      <td>Seattle is space-ious</td>\n",
       "      <td>zachboothdorff</td>\n",
       "      <td>2012-01-11T19:00:52.000Z</td>\n",
       "      <td>5.0</td>\n",
       "      <td>0.0</td>\n",
       "      <td>False</td>\n",
       "      <td>False</td>\n",
       "      <td>[]</td>\n",
       "      <td>[]</td>\n",
       "      <td>[seattle, spaceious]</td>\n",
       "      <td>2</td>\n",
       "      <td>NaN</td>\n",
       "    </tr>\n",
       "    <tr>\n",
       "      <th>2012-01-13 01:09:47+00:00</th>\n",
       "      <td>Gasworks!</td>\n",
       "      <td>zachboothdorff</td>\n",
       "      <td>2012-01-13T01:09:47.000Z</td>\n",
       "      <td>5.0</td>\n",
       "      <td>0.0</td>\n",
       "      <td>False</td>\n",
       "      <td>False</td>\n",
       "      <td>[]</td>\n",
       "      <td>[]</td>\n",
       "      <td>[gasworks]</td>\n",
       "      <td>1</td>\n",
       "      <td>NaN</td>\n",
       "    </tr>\n",
       "    <tr>\n",
       "      <th>...</th>\n",
       "      <td>...</td>\n",
       "      <td>...</td>\n",
       "      <td>...</td>\n",
       "      <td>...</td>\n",
       "      <td>...</td>\n",
       "      <td>...</td>\n",
       "      <td>...</td>\n",
       "      <td>...</td>\n",
       "      <td>...</td>\n",
       "      <td>...</td>\n",
       "      <td>...</td>\n",
       "      <td>...</td>\n",
       "    </tr>\n",
       "    <tr>\n",
       "      <th>2024-05-29 21:54:05+00:00</th>\n",
       "      <td>Hilla mín 20 í dag! Elska þig:red_heart:</td>\n",
       "      <td>kristianhlynsson</td>\n",
       "      <td>2024-05-29T21:54:05.000Z</td>\n",
       "      <td>2583.0</td>\n",
       "      <td>18.0</td>\n",
       "      <td>True</td>\n",
       "      <td>False</td>\n",
       "      <td>[]</td>\n",
       "      <td>[]</td>\n",
       "      <td>[hilla, mn, dag, elska, ig, redheart]</td>\n",
       "      <td>6</td>\n",
       "      <td>NaN</td>\n",
       "    </tr>\n",
       "    <tr>\n",
       "      <th>2024-05-29 23:46:40+00:00</th>\n",
       "      <td>On this day in 1955, James Dean attended the S...</td>\n",
       "      <td>jamesdean</td>\n",
       "      <td>2024-05-29T23:46:40.000Z</td>\n",
       "      <td>6304.0</td>\n",
       "      <td>95.0</td>\n",
       "      <td>True</td>\n",
       "      <td>False</td>\n",
       "      <td>[#jamesdean, #santabarbara, #vintageracing]</td>\n",
       "      <td>[]</td>\n",
       "      <td>[on, this, day, james, dean, attended, the, sa...</td>\n",
       "      <td>63</td>\n",
       "      <td>NaN</td>\n",
       "    </tr>\n",
       "    <tr>\n",
       "      <th>2024-05-30 01:20:49+00:00</th>\n",
       "      <td>ポルシェスタジオ銀座に行ってきました！\\n\\n#EBI GROUP が運営する #ポルシェス...</td>\n",
       "      <td>yukinarisugawara</td>\n",
       "      <td>2024-05-30T01:20:49.000Z</td>\n",
       "      <td>5652.0</td>\n",
       "      <td>16.0</td>\n",
       "      <td>False</td>\n",
       "      <td>False</td>\n",
       "      <td>[#EBI, #ポルシェスタジオ銀座, #久保建英]</td>\n",
       "      <td>[]</td>\n",
       "      <td>[ebi, group, porschestudioginza, ebigroup]</td>\n",
       "      <td>4</td>\n",
       "      <td>NaN</td>\n",
       "    </tr>\n",
       "    <tr>\n",
       "      <th>2024-05-30 02:51:33+00:00</th>\n",
       "      <td>Was it a Grog or a Krink marker?…. :man_shrugg...</td>\n",
       "      <td>nolij</td>\n",
       "      <td>2024-05-30T02:51:33.000Z</td>\n",
       "      <td>22.0</td>\n",
       "      <td>1.0</td>\n",
       "      <td>False</td>\n",
       "      <td>False</td>\n",
       "      <td>[#tattoo, #flash, #flashtattoo, #tattooflash, ...</td>\n",
       "      <td>[:man_shrugging:, :heart_hands::heart_hands::h...</td>\n",
       "      <td>[it, a, grog, or, a, krink, marker, manshruggi...</td>\n",
       "      <td>55</td>\n",
       "      <td>NaN</td>\n",
       "    </tr>\n",
       "    <tr>\n",
       "      <th>NaT</th>\n",
       "      <td>:soccer_ball::sparkles::victory_hand_medium_sk...</td>\n",
       "      <td>None</td>\n",
       "      <td>None</td>\n",
       "      <td>NaN</td>\n",
       "      <td>NaN</td>\n",
       "      <td>False</td>\n",
       "      <td>False</td>\n",
       "      <td>[]</td>\n",
       "      <td>[:soccer_ball::sparkles::victory_hand_medium_s...</td>\n",
       "      <td>[soccerball, sparkle, victoryhandmediumskinton...</td>\n",
       "      <td>4</td>\n",
       "      <td>NaN</td>\n",
       "    </tr>\n",
       "  </tbody>\n",
       "</table>\n",
       "<p>29432 rows × 12 columns</p>\n",
       "</div>"
      ],
      "text/plain": [
       "                                                                     caption  \\\n",
       "post_datetime                                                                  \n",
       "2011-12-20 18:50:56+00:00                           Baby tree with a Cone-er   \n",
       "2011-12-24 22:51:40+00:00                                      Me and Bonham   \n",
       "2011-12-26 21:21:17+00:00                                      Heading home!   \n",
       "2012-01-11 19:00:52+00:00                              Seattle is space-ious   \n",
       "2012-01-13 01:09:47+00:00                                          Gasworks!   \n",
       "...                                                                      ...   \n",
       "2024-05-29 21:54:05+00:00           Hilla mín 20 í dag! Elska þig:red_heart:   \n",
       "2024-05-29 23:46:40+00:00  On this day in 1955, James Dean attended the S...   \n",
       "2024-05-30 01:20:49+00:00  ポルシェスタジオ銀座に行ってきました！\\n\\n#EBI GROUP が運営する #ポルシェス...   \n",
       "2024-05-30 02:51:33+00:00  Was it a Grog or a Krink marker?…. :man_shrugg...   \n",
       "NaT                        :soccer_ball::sparkles::victory_hand_medium_sk...   \n",
       "\n",
       "                              ownerUsername                 timestamp  \\\n",
       "post_datetime                                                           \n",
       "2011-12-20 18:50:56+00:00    zachboothdorff  2011-12-20T18:50:56.000Z   \n",
       "2011-12-24 22:51:40+00:00    zachboothdorff  2011-12-24T22:51:40.000Z   \n",
       "2011-12-26 21:21:17+00:00    zachboothdorff  2011-12-26T21:21:17.000Z   \n",
       "2012-01-11 19:00:52+00:00    zachboothdorff  2012-01-11T19:00:52.000Z   \n",
       "2012-01-13 01:09:47+00:00    zachboothdorff  2012-01-13T01:09:47.000Z   \n",
       "...                                     ...                       ...   \n",
       "2024-05-29 21:54:05+00:00  kristianhlynsson  2024-05-29T21:54:05.000Z   \n",
       "2024-05-29 23:46:40+00:00         jamesdean  2024-05-29T23:46:40.000Z   \n",
       "2024-05-30 01:20:49+00:00  yukinarisugawara  2024-05-30T01:20:49.000Z   \n",
       "2024-05-30 02:51:33+00:00             nolij  2024-05-30T02:51:33.000Z   \n",
       "NaT                                    None                      None   \n",
       "\n",
       "                           likesCount  commentsCount  contains_numbers  \\\n",
       "post_datetime                                                            \n",
       "2011-12-20 18:50:56+00:00         7.0            0.0             False   \n",
       "2011-12-24 22:51:40+00:00        77.0            3.0             False   \n",
       "2011-12-26 21:21:17+00:00         6.0            0.0             False   \n",
       "2012-01-11 19:00:52+00:00         5.0            0.0             False   \n",
       "2012-01-13 01:09:47+00:00         5.0            0.0             False   \n",
       "...                               ...            ...               ...   \n",
       "2024-05-29 21:54:05+00:00      2583.0           18.0              True   \n",
       "2024-05-29 23:46:40+00:00      6304.0           95.0              True   \n",
       "2024-05-30 01:20:49+00:00      5652.0           16.0             False   \n",
       "2024-05-30 02:51:33+00:00        22.0            1.0             False   \n",
       "NaT                               NaN            NaN             False   \n",
       "\n",
       "                           contains_match_ref  \\\n",
       "post_datetime                                   \n",
       "2011-12-20 18:50:56+00:00               False   \n",
       "2011-12-24 22:51:40+00:00               False   \n",
       "2011-12-26 21:21:17+00:00               False   \n",
       "2012-01-11 19:00:52+00:00               False   \n",
       "2012-01-13 01:09:47+00:00               False   \n",
       "...                                       ...   \n",
       "2024-05-29 21:54:05+00:00               False   \n",
       "2024-05-29 23:46:40+00:00               False   \n",
       "2024-05-30 01:20:49+00:00               False   \n",
       "2024-05-30 02:51:33+00:00               False   \n",
       "NaT                                     False   \n",
       "\n",
       "                                                                    hashtags  \\\n",
       "post_datetime                                                                  \n",
       "2011-12-20 18:50:56+00:00                                                 []   \n",
       "2011-12-24 22:51:40+00:00                                                 []   \n",
       "2011-12-26 21:21:17+00:00                                                 []   \n",
       "2012-01-11 19:00:52+00:00                                                 []   \n",
       "2012-01-13 01:09:47+00:00                                                 []   \n",
       "...                                                                      ...   \n",
       "2024-05-29 21:54:05+00:00                                                 []   \n",
       "2024-05-29 23:46:40+00:00        [#jamesdean, #santabarbara, #vintageracing]   \n",
       "2024-05-30 01:20:49+00:00                         [#EBI, #ポルシェスタジオ銀座, #久保建英]   \n",
       "2024-05-30 02:51:33+00:00  [#tattoo, #flash, #flashtattoo, #tattooflash, ...   \n",
       "NaT                                                                       []   \n",
       "\n",
       "                                                                      emojis  \\\n",
       "post_datetime                                                                  \n",
       "2011-12-20 18:50:56+00:00                                                 []   \n",
       "2011-12-24 22:51:40+00:00                                                 []   \n",
       "2011-12-26 21:21:17+00:00                                                 []   \n",
       "2012-01-11 19:00:52+00:00                                                 []   \n",
       "2012-01-13 01:09:47+00:00                                                 []   \n",
       "...                                                                      ...   \n",
       "2024-05-29 21:54:05+00:00                                                 []   \n",
       "2024-05-29 23:46:40+00:00                                                 []   \n",
       "2024-05-30 01:20:49+00:00                                                 []   \n",
       "2024-05-30 02:51:33+00:00  [:man_shrugging:, :heart_hands::heart_hands::h...   \n",
       "NaT                        [:soccer_ball::sparkles::victory_hand_medium_s...   \n",
       "\n",
       "                                                    description_preprocessed  \\\n",
       "post_datetime                                                                  \n",
       "2011-12-20 18:50:56+00:00                      [baby, tree, with, a, coneer]   \n",
       "2011-12-24 22:51:40+00:00                                      [and, bonham]   \n",
       "2011-12-26 21:21:17+00:00                                    [heading, home]   \n",
       "2012-01-11 19:00:52+00:00                               [seattle, spaceious]   \n",
       "2012-01-13 01:09:47+00:00                                         [gasworks]   \n",
       "...                                                                      ...   \n",
       "2024-05-29 21:54:05+00:00              [hilla, mn, dag, elska, ig, redheart]   \n",
       "2024-05-29 23:46:40+00:00  [on, this, day, james, dean, attended, the, sa...   \n",
       "2024-05-30 01:20:49+00:00         [ebi, group, porschestudioginza, ebigroup]   \n",
       "2024-05-30 02:51:33+00:00  [it, a, grog, or, a, krink, marker, manshruggi...   \n",
       "NaT                        [soccerball, sparkle, victoryhandmediumskinton...   \n",
       "\n",
       "                           amount_of_words  Post Count  \n",
       "post_datetime                                           \n",
       "2011-12-20 18:50:56+00:00                5         NaN  \n",
       "2011-12-24 22:51:40+00:00                2         NaN  \n",
       "2011-12-26 21:21:17+00:00                2         NaN  \n",
       "2012-01-11 19:00:52+00:00                2         NaN  \n",
       "2012-01-13 01:09:47+00:00                1         NaN  \n",
       "...                                    ...         ...  \n",
       "2024-05-29 21:54:05+00:00                6         NaN  \n",
       "2024-05-29 23:46:40+00:00               63         NaN  \n",
       "2024-05-30 01:20:49+00:00                4         NaN  \n",
       "2024-05-30 02:51:33+00:00               55         NaN  \n",
       "NaT                                      4         NaN  \n",
       "\n",
       "[29432 rows x 12 columns]"
      ]
     },
     "execution_count": 20,
     "metadata": {},
     "output_type": "execute_result"
    }
   ],
   "source": [
    "data"
   ]
  },
  {
   "cell_type": "markdown",
   "metadata": {},
   "source": [
    "# Descriptives"
   ]
  },
  {
   "cell_type": "code",
   "execution_count": 12,
   "metadata": {},
   "outputs": [],
   "source": [
    "import matplotlib.pyplot as plt\n",
    "\n",
    "data['amount_of_words'] = data['description_preprocessed'].apply(len)\n",
    "non_empty_description = data[data['amount_of_words'] > 0]"
   ]
  },
  {
   "cell_type": "markdown",
   "metadata": {},
   "source": [
    "## Social Media Data"
   ]
  },
  {
   "cell_type": "markdown",
   "metadata": {},
   "source": [
    "### Amount of posts analysed"
   ]
  },
  {
   "cell_type": "code",
   "execution_count": 13,
   "metadata": {},
   "outputs": [
    {
     "name": "stdout",
     "output_type": "stream",
     "text": [
      "Non empty: 29202\n",
      "Whole dataset: 29432\n"
     ]
    }
   ],
   "source": [
    "print(f'Non empty: {len(non_empty_description)}')\n",
    "\n",
    "print(f'Whole dataset: {len(data)}')"
   ]
  },
  {
   "cell_type": "markdown",
   "metadata": {},
   "source": [
    "### Avg amount of words per post"
   ]
  },
  {
   "cell_type": "code",
   "execution_count": 14,
   "metadata": {},
   "outputs": [
    {
     "data": {
      "text/plain": [
       "15.641805355797548"
      ]
     },
     "execution_count": 14,
     "metadata": {},
     "output_type": "execute_result"
    }
   ],
   "source": [
    "non_empty_description['amount_of_words'].mean()"
   ]
  },
  {
   "cell_type": "markdown",
   "metadata": {},
   "source": [
    "### Amount of posts containing numbers"
   ]
  },
  {
   "cell_type": "code",
   "execution_count": 15,
   "metadata": {},
   "outputs": [
    {
     "data": {
      "text/plain": [
       "8121"
      ]
     },
     "execution_count": 15,
     "metadata": {},
     "output_type": "execute_result"
    }
   ],
   "source": [
    "len(non_empty_description[non_empty_description['contains_numbers'] == True])"
   ]
  },
  {
   "cell_type": "markdown",
   "metadata": {},
   "source": [
    "### Amount of match references"
   ]
  },
  {
   "cell_type": "code",
   "execution_count": 16,
   "metadata": {},
   "outputs": [
    {
     "data": {
      "text/plain": [
       "501"
      ]
     },
     "execution_count": 16,
     "metadata": {},
     "output_type": "execute_result"
    }
   ],
   "source": [
    "len(non_empty_description[non_empty_description['contains_match_ref'] == True])"
   ]
  },
  {
   "cell_type": "markdown",
   "metadata": {},
   "source": [
    "### Over time increase of data"
   ]
  },
  {
   "cell_type": "code",
   "execution_count": 17,
   "metadata": {},
   "outputs": [],
   "source": [
    "data.set_index('post_datetime', inplace=True)\n",
    "data.sort_index(inplace=True)"
   ]
  },
  {
   "cell_type": "markdown",
   "metadata": {},
   "source": [
    "#### Followers"
   ]
  },
  {
   "cell_type": "code",
   "execution_count": 18,
   "metadata": {},
   "outputs": [
    {
     "ename": "KeyError",
     "evalue": "'Followers at Posting'",
     "output_type": "error",
     "traceback": [
      "\u001b[0;31m---------------------------------------------------------------------------\u001b[0m",
      "\u001b[0;31mKeyError\u001b[0m                                  Traceback (most recent call last)",
      "File \u001b[0;32m~/Documents/JADS/master-thesis/thesis/scraper/.conda/lib/python3.11/site-packages/pandas/core/indexes/base.py:3805\u001b[0m, in \u001b[0;36mIndex.get_loc\u001b[0;34m(self, key)\u001b[0m\n\u001b[1;32m   3804\u001b[0m \u001b[38;5;28;01mtry\u001b[39;00m:\n\u001b[0;32m-> 3805\u001b[0m     \u001b[38;5;28;01mreturn\u001b[39;00m \u001b[38;5;28;43mself\u001b[39;49m\u001b[38;5;241;43m.\u001b[39;49m\u001b[43m_engine\u001b[49m\u001b[38;5;241;43m.\u001b[39;49m\u001b[43mget_loc\u001b[49m\u001b[43m(\u001b[49m\u001b[43mcasted_key\u001b[49m\u001b[43m)\u001b[49m\n\u001b[1;32m   3806\u001b[0m \u001b[38;5;28;01mexcept\u001b[39;00m \u001b[38;5;167;01mKeyError\u001b[39;00m \u001b[38;5;28;01mas\u001b[39;00m err:\n",
      "File \u001b[0;32mindex.pyx:167\u001b[0m, in \u001b[0;36mpandas._libs.index.IndexEngine.get_loc\u001b[0;34m()\u001b[0m\n",
      "File \u001b[0;32mindex.pyx:196\u001b[0m, in \u001b[0;36mpandas._libs.index.IndexEngine.get_loc\u001b[0;34m()\u001b[0m\n",
      "File \u001b[0;32mpandas/_libs/hashtable_class_helper.pxi:7081\u001b[0m, in \u001b[0;36mpandas._libs.hashtable.PyObjectHashTable.get_item\u001b[0;34m()\u001b[0m\n",
      "File \u001b[0;32mpandas/_libs/hashtable_class_helper.pxi:7089\u001b[0m, in \u001b[0;36mpandas._libs.hashtable.PyObjectHashTable.get_item\u001b[0;34m()\u001b[0m\n",
      "\u001b[0;31mKeyError\u001b[0m: 'Followers at Posting'",
      "\nThe above exception was the direct cause of the following exception:\n",
      "\u001b[0;31mKeyError\u001b[0m                                  Traceback (most recent call last)",
      "Cell \u001b[0;32mIn[18], line 3\u001b[0m\n\u001b[1;32m      1\u001b[0m \u001b[38;5;66;03m# Plotting\u001b[39;00m\n\u001b[1;32m      2\u001b[0m plt\u001b[38;5;241m.\u001b[39mfigure(figsize\u001b[38;5;241m=\u001b[39m(\u001b[38;5;241m10\u001b[39m, \u001b[38;5;241m5\u001b[39m))  \u001b[38;5;66;03m# Set the figure size (width, height in inches)\u001b[39;00m\n\u001b[0;32m----> 3\u001b[0m plt\u001b[38;5;241m.\u001b[39mplot(data\u001b[38;5;241m.\u001b[39mindex, \u001b[43mdata\u001b[49m\u001b[43m[\u001b[49m\u001b[38;5;124;43m'\u001b[39;49m\u001b[38;5;124;43mFollowers at Posting\u001b[39;49m\u001b[38;5;124;43m'\u001b[39;49m\u001b[43m]\u001b[49m, linestyle\u001b[38;5;241m=\u001b[39m\u001b[38;5;124m'\u001b[39m\u001b[38;5;124m-\u001b[39m\u001b[38;5;124m'\u001b[39m)\n\u001b[1;32m      4\u001b[0m plt\u001b[38;5;241m.\u001b[39mplot(data\u001b[38;5;241m.\u001b[39mindex, data[\u001b[38;5;124m'\u001b[39m\u001b[38;5;124mTotal Interactions\u001b[39m\u001b[38;5;124m'\u001b[39m], linestyle\u001b[38;5;241m=\u001b[39m\u001b[38;5;124m'\u001b[39m\u001b[38;5;124m--\u001b[39m\u001b[38;5;124m'\u001b[39m)\n\u001b[1;32m      5\u001b[0m plt\u001b[38;5;241m.\u001b[39mtitle(\u001b[38;5;124m'\u001b[39m\u001b[38;5;124mFollowers Increase Over Time\u001b[39m\u001b[38;5;124m'\u001b[39m)  \u001b[38;5;66;03m# Add a title\u001b[39;00m\n",
      "File \u001b[0;32m~/Documents/JADS/master-thesis/thesis/scraper/.conda/lib/python3.11/site-packages/pandas/core/frame.py:4102\u001b[0m, in \u001b[0;36mDataFrame.__getitem__\u001b[0;34m(self, key)\u001b[0m\n\u001b[1;32m   4100\u001b[0m \u001b[38;5;28;01mif\u001b[39;00m \u001b[38;5;28mself\u001b[39m\u001b[38;5;241m.\u001b[39mcolumns\u001b[38;5;241m.\u001b[39mnlevels \u001b[38;5;241m>\u001b[39m \u001b[38;5;241m1\u001b[39m:\n\u001b[1;32m   4101\u001b[0m     \u001b[38;5;28;01mreturn\u001b[39;00m \u001b[38;5;28mself\u001b[39m\u001b[38;5;241m.\u001b[39m_getitem_multilevel(key)\n\u001b[0;32m-> 4102\u001b[0m indexer \u001b[38;5;241m=\u001b[39m \u001b[38;5;28;43mself\u001b[39;49m\u001b[38;5;241;43m.\u001b[39;49m\u001b[43mcolumns\u001b[49m\u001b[38;5;241;43m.\u001b[39;49m\u001b[43mget_loc\u001b[49m\u001b[43m(\u001b[49m\u001b[43mkey\u001b[49m\u001b[43m)\u001b[49m\n\u001b[1;32m   4103\u001b[0m \u001b[38;5;28;01mif\u001b[39;00m is_integer(indexer):\n\u001b[1;32m   4104\u001b[0m     indexer \u001b[38;5;241m=\u001b[39m [indexer]\n",
      "File \u001b[0;32m~/Documents/JADS/master-thesis/thesis/scraper/.conda/lib/python3.11/site-packages/pandas/core/indexes/base.py:3812\u001b[0m, in \u001b[0;36mIndex.get_loc\u001b[0;34m(self, key)\u001b[0m\n\u001b[1;32m   3807\u001b[0m     \u001b[38;5;28;01mif\u001b[39;00m \u001b[38;5;28misinstance\u001b[39m(casted_key, \u001b[38;5;28mslice\u001b[39m) \u001b[38;5;129;01mor\u001b[39;00m (\n\u001b[1;32m   3808\u001b[0m         \u001b[38;5;28misinstance\u001b[39m(casted_key, abc\u001b[38;5;241m.\u001b[39mIterable)\n\u001b[1;32m   3809\u001b[0m         \u001b[38;5;129;01mand\u001b[39;00m \u001b[38;5;28many\u001b[39m(\u001b[38;5;28misinstance\u001b[39m(x, \u001b[38;5;28mslice\u001b[39m) \u001b[38;5;28;01mfor\u001b[39;00m x \u001b[38;5;129;01min\u001b[39;00m casted_key)\n\u001b[1;32m   3810\u001b[0m     ):\n\u001b[1;32m   3811\u001b[0m         \u001b[38;5;28;01mraise\u001b[39;00m InvalidIndexError(key)\n\u001b[0;32m-> 3812\u001b[0m     \u001b[38;5;28;01mraise\u001b[39;00m \u001b[38;5;167;01mKeyError\u001b[39;00m(key) \u001b[38;5;28;01mfrom\u001b[39;00m \u001b[38;5;21;01merr\u001b[39;00m\n\u001b[1;32m   3813\u001b[0m \u001b[38;5;28;01mexcept\u001b[39;00m \u001b[38;5;167;01mTypeError\u001b[39;00m:\n\u001b[1;32m   3814\u001b[0m     \u001b[38;5;66;03m# If we have a listlike key, _check_indexing_error will raise\u001b[39;00m\n\u001b[1;32m   3815\u001b[0m     \u001b[38;5;66;03m#  InvalidIndexError. Otherwise we fall through and re-raise\u001b[39;00m\n\u001b[1;32m   3816\u001b[0m     \u001b[38;5;66;03m#  the TypeError.\u001b[39;00m\n\u001b[1;32m   3817\u001b[0m     \u001b[38;5;28mself\u001b[39m\u001b[38;5;241m.\u001b[39m_check_indexing_error(key)\n",
      "\u001b[0;31mKeyError\u001b[0m: 'Followers at Posting'"
     ]
    },
    {
     "data": {
      "text/plain": [
       "<Figure size 1000x500 with 0 Axes>"
      ]
     },
     "metadata": {},
     "output_type": "display_data"
    }
   ],
   "source": [
    "# Plotting\n",
    "plt.figure(figsize=(10, 5))  # Set the figure size (width, height in inches)\n",
    "plt.plot(data.index, data['Followers at Posting'], linestyle='-')\n",
    "plt.plot(data.index, data['Total Interactions'], linestyle='--')\n",
    "plt.title('Followers Increase Over Time')  # Add a title\n",
    "plt.xlabel('Date')  # Label for the X-axis\n",
    "plt.ylabel('Followers at Posting')  # Label for the Y-axis\n",
    "plt.grid(True)  # Turn on the grid lines\n",
    "plt.xticks(rotation=45)  # Rotate date labels for better readability\n",
    "plt.tight_layout()  # Adjust subplots to give some padding\n",
    "plt.show()"
   ]
  },
  {
   "cell_type": "markdown",
   "metadata": {},
   "source": [
    "#### Frequency"
   ]
  },
  {
   "cell_type": "code",
   "execution_count": 19,
   "metadata": {},
   "outputs": [
    {
     "name": "stderr",
     "output_type": "stream",
     "text": [
      "/var/folders/t0/f1kbfy_n4433_n3x1c7px_hr0000gn/T/ipykernel_74905/2447752998.py:2: FutureWarning: 'M' is deprecated and will be removed in a future version, please use 'ME' instead.\n",
      "  data['Post Count'] = data.resample('M').size()\n",
      "/var/folders/t0/f1kbfy_n4433_n3x1c7px_hr0000gn/T/ipykernel_74905/2447752998.py:3: FutureWarning: 'M' is deprecated and will be removed in a future version, please use 'ME' instead.\n",
      "  df_daily = data.resample('M').agg({'Post Count': 'size', 'Followers at Posting': 'mean'})\n"
     ]
    },
    {
     "ename": "KeyError",
     "evalue": "\"Column(s) ['Followers at Posting'] do not exist\"",
     "output_type": "error",
     "traceback": [
      "\u001b[0;31m---------------------------------------------------------------------------\u001b[0m",
      "\u001b[0;31mKeyError\u001b[0m                                  Traceback (most recent call last)",
      "Cell \u001b[0;32mIn[19], line 3\u001b[0m\n\u001b[1;32m      1\u001b[0m \u001b[38;5;66;03m# Assuming 'followers_at_posting' is part of your DataFrame\u001b[39;00m\n\u001b[1;32m      2\u001b[0m data[\u001b[38;5;124m'\u001b[39m\u001b[38;5;124mPost Count\u001b[39m\u001b[38;5;124m'\u001b[39m] \u001b[38;5;241m=\u001b[39m data\u001b[38;5;241m.\u001b[39mresample(\u001b[38;5;124m'\u001b[39m\u001b[38;5;124mM\u001b[39m\u001b[38;5;124m'\u001b[39m)\u001b[38;5;241m.\u001b[39msize()\n\u001b[0;32m----> 3\u001b[0m df_daily \u001b[38;5;241m=\u001b[39m \u001b[43mdata\u001b[49m\u001b[38;5;241;43m.\u001b[39;49m\u001b[43mresample\u001b[49m\u001b[43m(\u001b[49m\u001b[38;5;124;43m'\u001b[39;49m\u001b[38;5;124;43mM\u001b[39;49m\u001b[38;5;124;43m'\u001b[39;49m\u001b[43m)\u001b[49m\u001b[38;5;241;43m.\u001b[39;49m\u001b[43magg\u001b[49m\u001b[43m(\u001b[49m\u001b[43m{\u001b[49m\u001b[38;5;124;43m'\u001b[39;49m\u001b[38;5;124;43mPost Count\u001b[39;49m\u001b[38;5;124;43m'\u001b[39;49m\u001b[43m:\u001b[49m\u001b[43m \u001b[49m\u001b[38;5;124;43m'\u001b[39;49m\u001b[38;5;124;43msize\u001b[39;49m\u001b[38;5;124;43m'\u001b[39;49m\u001b[43m,\u001b[49m\u001b[43m \u001b[49m\u001b[38;5;124;43m'\u001b[39;49m\u001b[38;5;124;43mFollowers at Posting\u001b[39;49m\u001b[38;5;124;43m'\u001b[39;49m\u001b[43m:\u001b[49m\u001b[43m \u001b[49m\u001b[38;5;124;43m'\u001b[39;49m\u001b[38;5;124;43mmean\u001b[39;49m\u001b[38;5;124;43m'\u001b[39;49m\u001b[43m}\u001b[49m\u001b[43m)\u001b[49m\n\u001b[1;32m      5\u001b[0m \u001b[38;5;66;03m# Plotting with two y-axes\u001b[39;00m\n\u001b[1;32m      6\u001b[0m fig, ax1 \u001b[38;5;241m=\u001b[39m plt\u001b[38;5;241m.\u001b[39msubplots(figsize\u001b[38;5;241m=\u001b[39m(\u001b[38;5;241m12\u001b[39m, \u001b[38;5;241m6\u001b[39m))\n",
      "File \u001b[0;32m~/Documents/JADS/master-thesis/thesis/scraper/.conda/lib/python3.11/site-packages/pandas/core/resample.py:352\u001b[0m, in \u001b[0;36mResampler.aggregate\u001b[0;34m(self, func, *args, **kwargs)\u001b[0m\n\u001b[1;32m    343\u001b[0m \u001b[38;5;129m@final\u001b[39m\n\u001b[1;32m    344\u001b[0m \u001b[38;5;129m@doc\u001b[39m(\n\u001b[1;32m    345\u001b[0m     _shared_docs[\u001b[38;5;124m\"\u001b[39m\u001b[38;5;124maggregate\u001b[39m\u001b[38;5;124m\"\u001b[39m],\n\u001b[0;32m   (...)\u001b[0m\n\u001b[1;32m    350\u001b[0m )\n\u001b[1;32m    351\u001b[0m \u001b[38;5;28;01mdef\u001b[39;00m \u001b[38;5;21maggregate\u001b[39m(\u001b[38;5;28mself\u001b[39m, func\u001b[38;5;241m=\u001b[39m\u001b[38;5;28;01mNone\u001b[39;00m, \u001b[38;5;241m*\u001b[39margs, \u001b[38;5;241m*\u001b[39m\u001b[38;5;241m*\u001b[39mkwargs):\n\u001b[0;32m--> 352\u001b[0m     result \u001b[38;5;241m=\u001b[39m \u001b[43mResamplerWindowApply\u001b[49m\u001b[43m(\u001b[49m\u001b[38;5;28;43mself\u001b[39;49m\u001b[43m,\u001b[49m\u001b[43m \u001b[49m\u001b[43mfunc\u001b[49m\u001b[43m,\u001b[49m\u001b[43m \u001b[49m\u001b[43margs\u001b[49m\u001b[38;5;241;43m=\u001b[39;49m\u001b[43margs\u001b[49m\u001b[43m,\u001b[49m\u001b[43m \u001b[49m\u001b[43mkwargs\u001b[49m\u001b[38;5;241;43m=\u001b[39;49m\u001b[43mkwargs\u001b[49m\u001b[43m)\u001b[49m\u001b[38;5;241;43m.\u001b[39;49m\u001b[43magg\u001b[49m\u001b[43m(\u001b[49m\u001b[43m)\u001b[49m\n\u001b[1;32m    353\u001b[0m     \u001b[38;5;28;01mif\u001b[39;00m result \u001b[38;5;129;01mis\u001b[39;00m \u001b[38;5;28;01mNone\u001b[39;00m:\n\u001b[1;32m    354\u001b[0m         how \u001b[38;5;241m=\u001b[39m func\n",
      "File \u001b[0;32m~/Documents/JADS/master-thesis/thesis/scraper/.conda/lib/python3.11/site-packages/pandas/core/apply.py:190\u001b[0m, in \u001b[0;36mApply.agg\u001b[0;34m(self)\u001b[0m\n\u001b[1;32m    187\u001b[0m     \u001b[38;5;28;01mreturn\u001b[39;00m \u001b[38;5;28mself\u001b[39m\u001b[38;5;241m.\u001b[39mapply_str()\n\u001b[1;32m    189\u001b[0m \u001b[38;5;28;01mif\u001b[39;00m is_dict_like(func):\n\u001b[0;32m--> 190\u001b[0m     \u001b[38;5;28;01mreturn\u001b[39;00m \u001b[38;5;28;43mself\u001b[39;49m\u001b[38;5;241;43m.\u001b[39;49m\u001b[43magg_dict_like\u001b[49m\u001b[43m(\u001b[49m\u001b[43m)\u001b[49m\n\u001b[1;32m    191\u001b[0m \u001b[38;5;28;01melif\u001b[39;00m is_list_like(func):\n\u001b[1;32m    192\u001b[0m     \u001b[38;5;66;03m# we require a list, but not a 'str'\u001b[39;00m\n\u001b[1;32m    193\u001b[0m     \u001b[38;5;28;01mreturn\u001b[39;00m \u001b[38;5;28mself\u001b[39m\u001b[38;5;241m.\u001b[39magg_list_like()\n",
      "File \u001b[0;32m~/Documents/JADS/master-thesis/thesis/scraper/.conda/lib/python3.11/site-packages/pandas/core/apply.py:423\u001b[0m, in \u001b[0;36mApply.agg_dict_like\u001b[0;34m(self)\u001b[0m\n\u001b[1;32m    415\u001b[0m \u001b[38;5;28;01mdef\u001b[39;00m \u001b[38;5;21magg_dict_like\u001b[39m(\u001b[38;5;28mself\u001b[39m) \u001b[38;5;241m-\u001b[39m\u001b[38;5;241m>\u001b[39m DataFrame \u001b[38;5;241m|\u001b[39m Series:\n\u001b[1;32m    416\u001b[0m \u001b[38;5;250m    \u001b[39m\u001b[38;5;124;03m\"\"\"\u001b[39;00m\n\u001b[1;32m    417\u001b[0m \u001b[38;5;124;03m    Compute aggregation in the case of a dict-like argument.\u001b[39;00m\n\u001b[1;32m    418\u001b[0m \n\u001b[0;32m   (...)\u001b[0m\n\u001b[1;32m    421\u001b[0m \u001b[38;5;124;03m    Result of aggregation.\u001b[39;00m\n\u001b[1;32m    422\u001b[0m \u001b[38;5;124;03m    \"\"\"\u001b[39;00m\n\u001b[0;32m--> 423\u001b[0m     \u001b[38;5;28;01mreturn\u001b[39;00m \u001b[38;5;28;43mself\u001b[39;49m\u001b[38;5;241;43m.\u001b[39;49m\u001b[43magg_or_apply_dict_like\u001b[49m\u001b[43m(\u001b[49m\u001b[43mop_name\u001b[49m\u001b[38;5;241;43m=\u001b[39;49m\u001b[38;5;124;43m\"\u001b[39;49m\u001b[38;5;124;43magg\u001b[39;49m\u001b[38;5;124;43m\"\u001b[39;49m\u001b[43m)\u001b[49m\n",
      "File \u001b[0;32m~/Documents/JADS/master-thesis/thesis/scraper/.conda/lib/python3.11/site-packages/pandas/core/apply.py:1608\u001b[0m, in \u001b[0;36mGroupByApply.agg_or_apply_dict_like\u001b[0;34m(self, op_name)\u001b[0m\n\u001b[1;32m   1603\u001b[0m     kwargs\u001b[38;5;241m.\u001b[39mupdate({\u001b[38;5;124m\"\u001b[39m\u001b[38;5;124mengine\u001b[39m\u001b[38;5;124m\"\u001b[39m: engine, \u001b[38;5;124m\"\u001b[39m\u001b[38;5;124mengine_kwargs\u001b[39m\u001b[38;5;124m\"\u001b[39m: engine_kwargs})\n\u001b[1;32m   1605\u001b[0m \u001b[38;5;28;01mwith\u001b[39;00m com\u001b[38;5;241m.\u001b[39mtemp_setattr(\n\u001b[1;32m   1606\u001b[0m     obj, \u001b[38;5;124m\"\u001b[39m\u001b[38;5;124mas_index\u001b[39m\u001b[38;5;124m\"\u001b[39m, \u001b[38;5;28;01mTrue\u001b[39;00m, condition\u001b[38;5;241m=\u001b[39m\u001b[38;5;28mhasattr\u001b[39m(obj, \u001b[38;5;124m\"\u001b[39m\u001b[38;5;124mas_index\u001b[39m\u001b[38;5;124m\"\u001b[39m)\n\u001b[1;32m   1607\u001b[0m ):\n\u001b[0;32m-> 1608\u001b[0m     result_index, result_data \u001b[38;5;241m=\u001b[39m \u001b[38;5;28;43mself\u001b[39;49m\u001b[38;5;241;43m.\u001b[39;49m\u001b[43mcompute_dict_like\u001b[49m\u001b[43m(\u001b[49m\n\u001b[1;32m   1609\u001b[0m \u001b[43m        \u001b[49m\u001b[43mop_name\u001b[49m\u001b[43m,\u001b[49m\u001b[43m \u001b[49m\u001b[43mselected_obj\u001b[49m\u001b[43m,\u001b[49m\u001b[43m \u001b[49m\u001b[43mselection\u001b[49m\u001b[43m,\u001b[49m\u001b[43m \u001b[49m\u001b[43mkwargs\u001b[49m\n\u001b[1;32m   1610\u001b[0m \u001b[43m    \u001b[49m\u001b[43m)\u001b[49m\n\u001b[1;32m   1611\u001b[0m result \u001b[38;5;241m=\u001b[39m \u001b[38;5;28mself\u001b[39m\u001b[38;5;241m.\u001b[39mwrap_results_dict_like(selected_obj, result_index, result_data)\n\u001b[1;32m   1612\u001b[0m \u001b[38;5;28;01mreturn\u001b[39;00m result\n",
      "File \u001b[0;32m~/Documents/JADS/master-thesis/thesis/scraper/.conda/lib/python3.11/site-packages/pandas/core/apply.py:462\u001b[0m, in \u001b[0;36mApply.compute_dict_like\u001b[0;34m(self, op_name, selected_obj, selection, kwargs)\u001b[0m\n\u001b[1;32m    460\u001b[0m is_groupby \u001b[38;5;241m=\u001b[39m \u001b[38;5;28misinstance\u001b[39m(obj, (DataFrameGroupBy, SeriesGroupBy))\n\u001b[1;32m    461\u001b[0m func \u001b[38;5;241m=\u001b[39m cast(AggFuncTypeDict, \u001b[38;5;28mself\u001b[39m\u001b[38;5;241m.\u001b[39mfunc)\n\u001b[0;32m--> 462\u001b[0m func \u001b[38;5;241m=\u001b[39m \u001b[38;5;28;43mself\u001b[39;49m\u001b[38;5;241;43m.\u001b[39;49m\u001b[43mnormalize_dictlike_arg\u001b[49m\u001b[43m(\u001b[49m\u001b[43mop_name\u001b[49m\u001b[43m,\u001b[49m\u001b[43m \u001b[49m\u001b[43mselected_obj\u001b[49m\u001b[43m,\u001b[49m\u001b[43m \u001b[49m\u001b[43mfunc\u001b[49m\u001b[43m)\u001b[49m\n\u001b[1;32m    464\u001b[0m is_non_unique_col \u001b[38;5;241m=\u001b[39m (\n\u001b[1;32m    465\u001b[0m     selected_obj\u001b[38;5;241m.\u001b[39mndim \u001b[38;5;241m==\u001b[39m \u001b[38;5;241m2\u001b[39m\n\u001b[1;32m    466\u001b[0m     \u001b[38;5;129;01mand\u001b[39;00m selected_obj\u001b[38;5;241m.\u001b[39mcolumns\u001b[38;5;241m.\u001b[39mnunique() \u001b[38;5;241m<\u001b[39m \u001b[38;5;28mlen\u001b[39m(selected_obj\u001b[38;5;241m.\u001b[39mcolumns)\n\u001b[1;32m    467\u001b[0m )\n\u001b[1;32m    469\u001b[0m \u001b[38;5;28;01mif\u001b[39;00m selected_obj\u001b[38;5;241m.\u001b[39mndim \u001b[38;5;241m==\u001b[39m \u001b[38;5;241m1\u001b[39m:\n\u001b[1;32m    470\u001b[0m     \u001b[38;5;66;03m# key only used for output\u001b[39;00m\n",
      "File \u001b[0;32m~/Documents/JADS/master-thesis/thesis/scraper/.conda/lib/python3.11/site-packages/pandas/core/apply.py:663\u001b[0m, in \u001b[0;36mApply.normalize_dictlike_arg\u001b[0;34m(self, how, obj, func)\u001b[0m\n\u001b[1;32m    661\u001b[0m     cols \u001b[38;5;241m=\u001b[39m Index(\u001b[38;5;28mlist\u001b[39m(func\u001b[38;5;241m.\u001b[39mkeys()))\u001b[38;5;241m.\u001b[39mdifference(obj\u001b[38;5;241m.\u001b[39mcolumns, sort\u001b[38;5;241m=\u001b[39m\u001b[38;5;28;01mTrue\u001b[39;00m)\n\u001b[1;32m    662\u001b[0m     \u001b[38;5;28;01mif\u001b[39;00m \u001b[38;5;28mlen\u001b[39m(cols) \u001b[38;5;241m>\u001b[39m \u001b[38;5;241m0\u001b[39m:\n\u001b[0;32m--> 663\u001b[0m         \u001b[38;5;28;01mraise\u001b[39;00m \u001b[38;5;167;01mKeyError\u001b[39;00m(\u001b[38;5;124mf\u001b[39m\u001b[38;5;124m\"\u001b[39m\u001b[38;5;124mColumn(s) \u001b[39m\u001b[38;5;132;01m{\u001b[39;00m\u001b[38;5;28mlist\u001b[39m(cols)\u001b[38;5;132;01m}\u001b[39;00m\u001b[38;5;124m do not exist\u001b[39m\u001b[38;5;124m\"\u001b[39m)\n\u001b[1;32m    665\u001b[0m aggregator_types \u001b[38;5;241m=\u001b[39m (\u001b[38;5;28mlist\u001b[39m, \u001b[38;5;28mtuple\u001b[39m, \u001b[38;5;28mdict\u001b[39m)\n\u001b[1;32m    667\u001b[0m \u001b[38;5;66;03m# if we have a dict of any non-scalars\u001b[39;00m\n\u001b[1;32m    668\u001b[0m \u001b[38;5;66;03m# eg. {'A' : ['mean']}, normalize all to\u001b[39;00m\n\u001b[1;32m    669\u001b[0m \u001b[38;5;66;03m# be list-likes\u001b[39;00m\n\u001b[1;32m    670\u001b[0m \u001b[38;5;66;03m# Cannot use func.values() because arg may be a Series\u001b[39;00m\n",
      "\u001b[0;31mKeyError\u001b[0m: \"Column(s) ['Followers at Posting'] do not exist\""
     ]
    }
   ],
   "source": [
    "# Assuming 'followers_at_posting' is part of your DataFrame\n",
    "data['Post Count'] = data.resample('M').size()\n",
    "df_daily = data.resample('M').agg({'Post Count': 'size', 'Followers at Posting': 'mean'})\n",
    "\n",
    "# Plotting with two y-axes\n",
    "fig, ax1 = plt.subplots(figsize=(12, 6))\n",
    "\n",
    "ax2 = ax1.twinx()\n",
    "line1, = ax1.plot(df_daily.index, df_daily['Post Count'], 'g-', label='Posts per Month')\n",
    "line2, = ax2.plot(df_daily.index, df_daily['Followers at Posting'], 'b-', label='Average Followers at Posting')\n",
    "\n",
    "ax1.set_xlabel('Date')\n",
    "ax1.set_ylabel('Posts per Month', color='g')\n",
    "ax2.set_ylabel('Average Followers at Posting', color='b')\n",
    "ax1.set_title('Posting Frequency and Followers Over Time')\n",
    "ax1.grid(True)\n",
    "\n",
    "lines = [line1, line2]\n",
    "labels = [line.get_label() for line in lines]\n",
    "ax1.legend(lines, labels, loc='upper left')  # Positioning the legend on the left (default position)\n",
    "plt.show()\n"
   ]
  },
  {
   "cell_type": "markdown",
   "metadata": {},
   "source": [
    "## Google trends"
   ]
  },
  {
   "cell_type": "code",
   "execution_count": 94,
   "metadata": {},
   "outputs": [
    {
     "data": {
      "image/png": "[encoded data removed]",
      "text/plain": [
       "<Figure size 1000x500 with 1 Axes>"
      ]
     },
     "metadata": {},
     "output_type": "display_data"
    }
   ],
   "source": [
    "trends_data['mean_followers_per_date'] = trends_data.iloc[:, 1:].mean(axis=1)\n",
    "\n",
    "plt.figure(figsize=(10, 5))\n",
    "plt.plot(trends_data.index, trends_data['mean_followers_per_date'], marker='o', linestyle='-')\n",
    "plt.title('Mean Followers Per Date')\n",
    "plt.xlabel('Date')\n",
    "plt.ylabel('Mean Followers')\n",
    "plt.grid(True)\n",
    "plt.xticks(rotation=45)\n",
    "plt.tight_layout()\n",
    "plt.show()\n"
   ]
  },
  {
   "cell_type": "markdown",
   "metadata": {},
   "source": [
    "# Modelling"
   ]
  },
  {
   "cell_type": "code",
   "execution_count": null,
   "metadata": {},
   "outputs": [],
   "source": [
    "# Create and fit BERTopic model\n",
    "topic_model = BERTopic(language=\"english\", calculate_probabilities=True, verbose=True)\n",
    "topics, probabilities = topic_model.fit_transform(data['Cleaned_Description'])\n",
    "\n",
    "# Get and display the topic info\n",
    "topic_info = topic_model.get_topic_info()"
   ]
  },
  {
   "cell_type": "markdown",
   "metadata": {},
   "source": [
    "# Data transformation into per-week basis"
   ]
  },
  {
   "cell_type": "code",
   "execution_count": 7,
   "metadata": {},
   "outputs": [],
   "source": [
    "import pandas as pd\n",
    "\n",
    "df_social = pd.read_excel('../data/instagram/Lutsharel Geertruida - Instagram - Content.xlsx')"
   ]
  },
  {
   "cell_type": "code",
   "execution_count": 8,
   "metadata": {},
   "outputs": [],
   "source": [
    "df_social['Post Created DateTime'] = pd.to_datetime(df_social['Post Created Date'] + ' ' + df_social['Post Created Time'])\n",
    "\n",
    "# Extract the week number as 'YearWeek' for grouping data by weeks\n",
    "df_social['YearWeek'] = df_social['Post Created DateTime'].dt.strftime('%Y-%U')\n",
    "\n",
    "# Optionally drop the now redundant date and time columns if they are no longer needed\n",
    "df_social.drop(['Post Created Date', 'Post Created Time'], axis=1, inplace=True)\n"
   ]
  },
  {
   "cell_type": "code",
   "execution_count": 10,
   "metadata": {},
   "outputs": [
    {
     "data": {
      "text/html": [
       "<div>\n",
       "<style scoped>\n",
       "    .dataframe tbody tr th:only-of-type {\n",
       "        vertical-align: middle;\n",
       "    }\n",
       "\n",
       "    .dataframe tbody tr th {\n",
       "        vertical-align: top;\n",
       "    }\n",
       "\n",
       "    .dataframe thead th {\n",
       "        text-align: right;\n",
       "    }\n",
       "</style>\n",
       "<table border=\"1\" class=\"dataframe\">\n",
       "  <thead>\n",
       "    <tr style=\"text-align: right;\">\n",
       "      <th></th>\n",
       "      <th>Account</th>\n",
       "      <th>YearWeek</th>\n",
       "      <th>Followers at Posting</th>\n",
       "      <th>Total Interactions</th>\n",
       "      <th>Likes</th>\n",
       "      <th>Comments</th>\n",
       "      <th>Views</th>\n",
       "    </tr>\n",
       "  </thead>\n",
       "  <tbody>\n",
       "    <tr>\n",
       "      <th>0</th>\n",
       "      <td>Lutsharel Geertruida</td>\n",
       "      <td>2019-14</td>\n",
       "      <td>11860</td>\n",
       "      <td>2730</td>\n",
       "      <td>2630</td>\n",
       "      <td>100</td>\n",
       "      <td>0</td>\n",
       "    </tr>\n",
       "    <tr>\n",
       "      <th>1</th>\n",
       "      <td>Lutsharel Geertruida</td>\n",
       "      <td>2019-17</td>\n",
       "      <td>12078</td>\n",
       "      <td>3241</td>\n",
       "      <td>3093</td>\n",
       "      <td>148</td>\n",
       "      <td>0</td>\n",
       "    </tr>\n",
       "    <tr>\n",
       "      <th>2</th>\n",
       "      <td>Lutsharel Geertruida</td>\n",
       "      <td>2019-19</td>\n",
       "      <td>12296</td>\n",
       "      <td>3084</td>\n",
       "      <td>2939</td>\n",
       "      <td>145</td>\n",
       "      <td>0</td>\n",
       "    </tr>\n",
       "    <tr>\n",
       "      <th>3</th>\n",
       "      <td>Lutsharel Geertruida</td>\n",
       "      <td>2019-26</td>\n",
       "      <td>12919</td>\n",
       "      <td>2937</td>\n",
       "      <td>2807</td>\n",
       "      <td>130</td>\n",
       "      <td>0</td>\n",
       "    </tr>\n",
       "    <tr>\n",
       "      <th>4</th>\n",
       "      <td>Lutsharel Geertruida</td>\n",
       "      <td>2019-32</td>\n",
       "      <td>13901</td>\n",
       "      <td>3171</td>\n",
       "      <td>3035</td>\n",
       "      <td>136</td>\n",
       "      <td>0</td>\n",
       "    </tr>\n",
       "    <tr>\n",
       "      <th>...</th>\n",
       "      <td>...</td>\n",
       "      <td>...</td>\n",
       "      <td>...</td>\n",
       "      <td>...</td>\n",
       "      <td>...</td>\n",
       "      <td>...</td>\n",
       "      <td>...</td>\n",
       "    </tr>\n",
       "    <tr>\n",
       "      <th>135</th>\n",
       "      <td>Lutsharel Geertruida</td>\n",
       "      <td>2024-09</td>\n",
       "      <td>101522</td>\n",
       "      <td>18635</td>\n",
       "      <td>18469</td>\n",
       "      <td>166</td>\n",
       "      <td>0</td>\n",
       "    </tr>\n",
       "    <tr>\n",
       "      <th>136</th>\n",
       "      <td>Lutsharel Geertruida</td>\n",
       "      <td>2024-10</td>\n",
       "      <td>101966</td>\n",
       "      <td>9346</td>\n",
       "      <td>9287</td>\n",
       "      <td>59</td>\n",
       "      <td>0</td>\n",
       "    </tr>\n",
       "    <tr>\n",
       "      <th>137</th>\n",
       "      <td>Lutsharel Geertruida</td>\n",
       "      <td>2024-11</td>\n",
       "      <td>102104</td>\n",
       "      <td>59696</td>\n",
       "      <td>59331</td>\n",
       "      <td>365</td>\n",
       "      <td>0</td>\n",
       "    </tr>\n",
       "    <tr>\n",
       "      <th>138</th>\n",
       "      <td>Lutsharel Geertruida</td>\n",
       "      <td>2024-12</td>\n",
       "      <td>104176</td>\n",
       "      <td>10843</td>\n",
       "      <td>10717</td>\n",
       "      <td>126</td>\n",
       "      <td>0</td>\n",
       "    </tr>\n",
       "    <tr>\n",
       "      <th>139</th>\n",
       "      <td>Lutsharel Geertruida</td>\n",
       "      <td>2024-13</td>\n",
       "      <td>104315</td>\n",
       "      <td>15410</td>\n",
       "      <td>15335</td>\n",
       "      <td>75</td>\n",
       "      <td>0</td>\n",
       "    </tr>\n",
       "  </tbody>\n",
       "</table>\n",
       "<p>140 rows × 7 columns</p>\n",
       "</div>"
      ],
      "text/plain": [
       "                  Account YearWeek  Followers at Posting  Total Interactions  \\\n",
       "0    Lutsharel Geertruida  2019-14                 11860                2730   \n",
       "1    Lutsharel Geertruida  2019-17                 12078                3241   \n",
       "2    Lutsharel Geertruida  2019-19                 12296                3084   \n",
       "3    Lutsharel Geertruida  2019-26                 12919                2937   \n",
       "4    Lutsharel Geertruida  2019-32                 13901                3171   \n",
       "..                    ...      ...                   ...                 ...   \n",
       "135  Lutsharel Geertruida  2024-09                101522               18635   \n",
       "136  Lutsharel Geertruida  2024-10                101966                9346   \n",
       "137  Lutsharel Geertruida  2024-11                102104               59696   \n",
       "138  Lutsharel Geertruida  2024-12                104176               10843   \n",
       "139  Lutsharel Geertruida  2024-13                104315               15410   \n",
       "\n",
       "     Likes  Comments  Views  \n",
       "0     2630       100      0  \n",
       "1     3093       148      0  \n",
       "2     2939       145      0  \n",
       "3     2807       130      0  \n",
       "4     3035       136      0  \n",
       "..     ...       ...    ...  \n",
       "135  18469       166      0  \n",
       "136   9287        59      0  \n",
       "137  59331       365      0  \n",
       "138  10717       126      0  \n",
       "139  15335        75      0  \n",
       "\n",
       "[140 rows x 7 columns]"
      ]
     },
     "execution_count": 10,
     "metadata": {},
     "output_type": "execute_result"
    }
   ],
   "source": [
    "weekly_data = df_social.groupby(['Account', 'YearWeek']).agg({\n",
    "    'Followers at Posting': 'last',  # Assuming you want the last recorded followers count for the week\n",
    "    'Total Interactions': 'sum',\n",
    "    'Likes': 'sum',\n",
    "    'Comments': 'sum',\n",
    "    'Views': 'sum'\n",
    "}).reset_index()\n",
    "weekly_data"
   ]
  },
  {
   "cell_type": "code",
   "execution_count": null,
   "metadata": {},
   "outputs": [],
   "source": []
  }
 ],
 "metadata": {
  "kernelspec": {
   "display_name": "Python 3",
   "language": "python",
   "name": "python3"
  },
  "language_info": {
   "codemirror_mode": {
    "name": "ipython",
    "version": 3
   },
   "file_extension": ".py",
   "mimetype": "text/x-python",
   "name": "python",
   "nbconvert_exporter": "python",
   "pygments_lexer": "ipython3",
   "version": "3.11.8"
  }
 },
 "nbformat": 4,
 "nbformat_minor": 2
}
