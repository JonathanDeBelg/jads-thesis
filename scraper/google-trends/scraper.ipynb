{
 "cells": [
  {
   "cell_type": "code",
   "execution_count": null,
   "metadata": {},
   "outputs": [],
   "source": [
    "from pytrends.request import TrendReq\n",
    "import pandas as pd\n",
    "import time\n",
    "\n",
    "# Initialize pytrends request\n",
    "pytrends = TrendReq(hl='en-US', tz=360)\n",
    "\n",
    "def fetch_interest_over_time(player_name):\n",
    "    try:\n",
    "        pytrends.build_payload([player_name], timeframe='today 12-m')\n",
    "        interest = pytrends.interest_over_time()\n",
    "        if not interest.empty:\n",
    "            interest.drop(columns=['isPartial'], inplace=True)\n",
    "            interest.rename(columns={player_name: player_name.replace(\" \", \"_\")}, inplace=True)\n",
    "            return interest\n",
    "    except Exception as e:\n",
    "        print(f\"Error fetching data for {player_name}: {str(e)}\")\n",
    "    return pd.DataFrame()"
   ]
  },
  {
   "cell_type": "code",
   "execution_count": null,
   "metadata": {},
   "outputs": [],
   "source": [
    "# Load your dataset\n",
    "data = pd.read_csv('../../data/def_football_data_with_instagram_uname.csv')  # Make sure this path is correct\n",
    "\n",
    "# List to store each player's DataFrame\n",
    "interest_data_frames = []"
   ]
  },
  {
   "cell_type": "code",
   "execution_count": null,
   "metadata": {},
   "outputs": [],
   "source": [
    "# Fetch interest over time data for each player\n",
    "for index, row in data.iterrows():\n",
    "    player_name = row['Name']\n",
    "    print(f\"Fetching data for {player_name}\")\n",
    "    interest_df = fetch_interest_over_time(player_name)\n",
    "    if not interest_df.empty:\n",
    "        interest_data_frames.append(interest_df)\n",
    "combined_interest = pd.concat(interest_data_frames, axis=1)\n",
    "combined_interest.to_csv('../../data/player_data_google_data.csv')  # Make sure this path is correct"
   ]
  },
  {
   "cell_type": "code",
   "execution_count": null,
   "metadata": {},
   "outputs": [],
   "source": [
    "try:\n",
    "    combined_interest = pd.read_csv('../../data/player_data_google_data.csv', index_col=0)\n",
    "    existing_players = combined_interest.columns.str.replace('_', ' ')  # Adjust column names back to normal\n",
    "except FileNotFoundError:\n",
    "    combined_interest = pd.DataFrame()\n",
    "    existing_players = []\n",
    "interest_data_frames = [combined_interest]"
   ]
  },
  {
   "cell_type": "code",
   "execution_count": null,
   "metadata": {},
   "outputs": [],
   "source": [
    "for player_name in data['Name']:\n",
    "    if player_name not in existing_players:\n",
    "        print(f\"Fetching data for {player_name}\")\n",
    "        interest_df = fetch_interest_over_time(player_name)\n",
    "        if not interest_df.empty:\n",
    "            interest_data_frames.append(interest_df)\n",
    "        time.sleep(1)"
   ]
  }
 ],
 "metadata": {
  "kernelspec": {
   "display_name": "Python 3",
   "language": "python",
   "name": "python3"
  },
  "language_info": {
   "codemirror_mode": {
    "name": "ipython",
    "version": 3
   },
   "file_extension": ".py",
   "mimetype": "text/x-python",
   "name": "python",
   "nbconvert_exporter": "python",
   "pygments_lexer": "ipython3",
   "version": "3.11.8"
  }
 },
 "nbformat": 4,
 "nbformat_minor": 2
}
