{
 "cells": [
  {
   "cell_type": "code",
   "execution_count": 6,
   "metadata": {},
   "outputs": [],
   "source": [
    "from selenium import webdriver\n",
    "from selenium.webdriver.common.by import By\n",
    "from selenium.webdriver.support.ui import WebDriverWait\n",
    "from selenium.webdriver.support import expected_conditions as EC\n",
    "import time\n",
    "import pandas as pd\n",
    "\n",
    "\n",
    "url = 'https://eredivisie.nl/stats/algemeen/'"
   ]
  },
  {
   "cell_type": "code",
   "execution_count": 12,
   "metadata": {},
   "outputs": [],
   "source": [
    "# Set up the Selenium WebDriver\n",
    "driver = webdriver.Chrome()  # Adjust if you're using a different browser\n",
    "\n",
    "# URL of the page to scrape\n",
    "url = 'https://eredivisie.nl/stats/algemeen/'\n",
    "\n",
    "driver.get(url)\n",
    "time.sleep(5)  # Wait for the initial JS scripts to load\n",
    "\n",
    "# Click the 'Overview' button to navigate to the correct page\n",
    "try:\n",
    "    overview_button = WebDriverWait(driver, 10).until(\n",
    "        EC.presence_of_element_located((By.XPATH, \"//div[contains(., 'Overzicht')]\"))\n",
    "    )\n",
    "    driver.execute_script(\"arguments[0].click();\", overview_button)\n",
    "    \n",
    "    time.sleep(5)  # Wait for the page to load after clicking\n",
    "except Exception as e:\n",
    "    print(\"Failed to click the 'Overzicht' button:\", e)\n",
    "    driver.quit()\n",
    "\n",
    "# # Function to click the pagination button\n",
    "# def click_pagination():\n",
    "#     try:\n",
    "#         next_button = driver.find_element(By.XPATH, '//svg[@data-setted-color=\"false\"]/parent::span[contains(@class, \"pagination__item btn\")]')\n",
    "#         next_button.click()\n",
    "#         time.sleep(1)  # Wait for the data to load\n",
    "#     except Exception as e:\n",
    "#         print(\"Failed to click or no more pages:\", e)\n",
    "#         return False\n",
    "#     return True\n",
    "\n",
    "# # Data extraction logic\n",
    "# data_rows = []\n",
    "# while True:\n",
    "#     # Extract data from the current page\n",
    "#     rows = driver.find_elements(By.CSS_SELECTOR, '.table__body tr')\n",
    "#     for row in rows:\n",
    "#         cells = row.find_elements(By.TAG_NAME, 'td')\n",
    "#         row_data = [cell.text for cell in cells]\n",
    "#         data_rows.append(row_data)\n",
    "    \n",
    "#     # Attempt to go to the next page\n",
    "#     if not click_pagination():\n",
    "#         break\n",
    "\n",
    "# # Convert the list of data into a DataFrame\n",
    "# columns = ['Name', 'WG', 'WS', 'W[in]', 'W[uit]', 'SM']  # Adjust column names based on actual data\n",
    "# df = pd.DataFrame(data_rows, columns=columns)\n",
    "\n",
    "# Clean up and close the browser\n",
    "# driver.quit()\n"
   ]
  },
  {
   "cell_type": "code",
   "execution_count": null,
   "metadata": {},
   "outputs": [],
   "source": []
  }
 ],
 "metadata": {
  "kernelspec": {
   "display_name": "Python 3",
   "language": "python",
   "name": "python3"
  },
  "language_info": {
   "codemirror_mode": {
    "name": "ipython",
    "version": 3
   },
   "file_extension": ".py",
   "mimetype": "text/x-python",
   "name": "python",
   "nbconvert_exporter": "python",
   "pygments_lexer": "ipython3",
   "version": "3.11.8"
  }
 },
 "nbformat": 4,
 "nbformat_minor": 2
}
